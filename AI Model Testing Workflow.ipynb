{
 "cells": [
  {
   "cell_type": "markdown",
   "id": "32a57869",
   "metadata": {},
   "source": [
    "# Plan\n",
    "- inputs\n",
    "  - engine\n",
    "  - prompt\n",
    "  - conversation\n",
    "  - good responses\n",
    "  - bad responses\n",
    "- flow\n",
    "  - run a chat completion on engine, prompt, and conversation\n",
    "  - embed output from completion\n",
    "  - compare output embedding to good and bad"
   ]
  },
  {
   "cell_type": "code",
   "execution_count": 26,
   "id": "3480a4ca",
   "metadata": {},
   "outputs": [],
   "source": [
    "import openai\n",
    "import numpy as np"
   ]
  },
  {
   "cell_type": "code",
   "execution_count": 2,
   "id": "5251be96",
   "metadata": {},
   "outputs": [],
   "source": [
    "client = openai.OpenAI()"
   ]
  },
  {
   "cell_type": "code",
   "execution_count": 6,
   "id": "a40d22a4",
   "metadata": {},
   "outputs": [],
   "source": [
    "resp = client.chat.completions.create(model='gpt-4o-mini', messages=[{'role': 'user', 'content': 'hi'}])"
   ]
  },
  {
   "cell_type": "code",
   "execution_count": 7,
   "id": "5b8ed7f2",
   "metadata": {},
   "outputs": [
    {
     "data": {
      "text/plain": [
       "ChatCompletion(id='chatcmpl-AAhEX3SWpGAcHgti2m6fWw2W7PmgZ', choices=[Choice(finish_reason='stop', index=0, logprobs=None, message=ChatCompletionMessage(content='Hello! How can I assist you today?', role='assistant', function_call=None, tool_calls=None, refusal=None))], created=1727112833, model='gpt-4o-mini-2024-07-18', object='chat.completion', system_fingerprint='fp_1bb46167f9', usage=CompletionUsage(completion_tokens=9, prompt_tokens=8, total_tokens=17, completion_tokens_details={'reasoning_tokens': 0}))"
      ]
     },
     "execution_count": 7,
     "metadata": {},
     "output_type": "execute_result"
    }
   ],
   "source": [
    "resp"
   ]
  },
  {
   "cell_type": "code",
   "execution_count": 11,
   "id": "9e41ece0",
   "metadata": {},
   "outputs": [
    {
     "data": {
      "text/plain": [
       "'Hello! How can I assist you today?'"
      ]
     },
     "execution_count": 11,
     "metadata": {},
     "output_type": "execute_result"
    }
   ],
   "source": [
    "resp.choices[0].message.content"
   ]
  },
  {
   "cell_type": "markdown",
   "id": "fa06a3e6",
   "metadata": {},
   "source": []
  },
  {
   "cell_type": "code",
   "execution_count": 55,
   "id": "429b6146",
   "metadata": {},
   "outputs": [],
   "source": [
    "def get_response(model, prompt, conversation) -> str:\n",
    "    messages = [\n",
    "        {'role': 'system', 'content': prompt},\n",
    "        *conversation\n",
    "    ]\n",
    "    resp = client.chat.completions.create(model=model, messages=messages)\n",
    "    return resp.choices[0].message.content"
   ]
  },
  {
   "cell_type": "code",
   "execution_count": 56,
   "id": "263506d5",
   "metadata": {},
   "outputs": [
    {
     "data": {
      "text/plain": [
       "\"Howdy, partner! What brings ya 'round these parts today?\""
      ]
     },
     "execution_count": 56,
     "metadata": {},
     "output_type": "execute_result"
    }
   ],
   "source": [
    "get_response(\n",
    "    'gpt-4o-mini',\n",
    "    'Speak like a Texan.',\n",
    "    [{'role': 'user', 'content': 'hi'}]\n",
    ")"
   ]
  },
  {
   "cell_type": "code",
   "execution_count": 34,
   "id": "1f698c2b",
   "metadata": {},
   "outputs": [],
   "source": [
    "good = 'Howdy! What can I do for you?'\n",
    "bad = 'Hello! How can I assist you?'"
   ]
  },
  {
   "cell_type": "code",
   "execution_count": 35,
   "id": "45b6c2f9",
   "metadata": {},
   "outputs": [],
   "source": [
    "resp = client.embeddings.create(input=[good, bad], model='text-embedding-3-small')"
   ]
  },
  {
   "cell_type": "code",
   "execution_count": 36,
   "id": "8b2ae285",
   "metadata": {},
   "outputs": [],
   "source": [
    "embeds = np.array([emb.embedding for emb in resp.data])"
   ]
  },
  {
   "cell_type": "code",
   "execution_count": 37,
   "id": "60af1af9",
   "metadata": {},
   "outputs": [
    {
     "data": {
      "text/plain": [
       "array([[-0.01905102, -0.02874077, -0.02385484, ..., -0.03446155,\n",
       "         0.00050083,  0.01029878],\n",
       "       [-0.00424917, -0.0104074 ,  0.02297701, ..., -0.00539529,\n",
       "         0.01098216,  0.00192958]])"
      ]
     },
     "execution_count": 37,
     "metadata": {},
     "output_type": "execute_result"
    }
   ],
   "source": [
    "embeds"
   ]
  },
  {
   "cell_type": "code",
   "execution_count": 38,
   "id": "0d166991",
   "metadata": {},
   "outputs": [
    {
     "data": {
      "text/plain": [
       "(2, 1536)"
      ]
     },
     "execution_count": 38,
     "metadata": {},
     "output_type": "execute_result"
    }
   ],
   "source": [
    "embeds.shape"
   ]
  },
  {
   "cell_type": "code",
   "execution_count": 44,
   "id": "b723aa4e",
   "metadata": {},
   "outputs": [],
   "source": [
    "def get_embedding(text) -> np.array:\n",
    "    resp = client.embeddings.create(input=text, model='text-embedding-3-small')\n",
    "    return np.array(resp.data[0].embedding).reshape(1,-1)"
   ]
  },
  {
   "cell_type": "code",
   "execution_count": 47,
   "id": "62ffb10b",
   "metadata": {},
   "outputs": [],
   "source": [
    "embed = get_embedding('Hello! How can I assist you today?')"
   ]
  },
  {
   "cell_type": "code",
   "execution_count": 48,
   "id": "59d7d0a2",
   "metadata": {},
   "outputs": [
    {
     "data": {
      "text/plain": [
       "array([[0.63589733, 0.94381284]])"
      ]
     },
     "execution_count": 48,
     "metadata": {},
     "output_type": "execute_result"
    }
   ],
   "source": [
    "embed @ embeds.T"
   ]
  },
  {
   "cell_type": "code",
   "execution_count": 54,
   "id": "d0a0c096",
   "metadata": {},
   "outputs": [
    {
     "data": {
      "text/plain": [
       "'Hello! How can I assist you today?'"
      ]
     },
     "execution_count": 54,
     "metadata": {},
     "output_type": "execute_result"
    }
   ],
   "source": [
    "get_response('gpt-4o', 'Speak in spanish, regardless of the user\\'s language', [{'role':'user', 'content':'hi'}])"
   ]
  },
  {
   "cell_type": "code",
   "execution_count": 57,
   "id": "05dd122a",
   "metadata": {},
   "outputs": [
    {
     "name": "stdout",
     "output_type": "stream",
     "text": [
      "Howdy, partner! How’s it goin’ with ya today?\n"
     ]
    },
    {
     "data": {
      "text/plain": [
       "array([[0.63786166, 0.40458722]])"
      ]
     },
     "execution_count": 57,
     "metadata": {},
     "output_type": "execute_result"
    }
   ],
   "source": [
    "reply = get_response(\n",
    "    'gpt-4o-mini',\n",
    "    'Speak like a Texan.',\n",
    "    [{'role': 'user', 'content': 'hi'}]\n",
    ")\n",
    "print(reply)\n",
    "embed = get_embedding(reply)\n",
    "embed @ embeds.T"
   ]
  },
  {
   "cell_type": "code",
   "execution_count": null,
   "id": "6198dfa1",
   "metadata": {},
   "outputs": [],
   "source": []
  }
 ],
 "metadata": {
  "kernelspec": {
   "display_name": "bean",
   "language": "python",
   "name": "bean"
  },
  "language_info": {
   "codemirror_mode": {
    "name": "ipython",
    "version": 3
   },
   "file_extension": ".py",
   "mimetype": "text/x-python",
   "name": "python",
   "nbconvert_exporter": "python",
   "pygments_lexer": "ipython3",
   "version": "3.11.0"
  }
 },
 "nbformat": 4,
 "nbformat_minor": 5
}
