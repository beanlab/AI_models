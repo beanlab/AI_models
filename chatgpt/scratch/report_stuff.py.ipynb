{
 "cells": [
  {
   "metadata": {
    "ExecuteTime": {
     "end_time": "2024-11-11T18:43:14.056940Z",
     "start_time": "2024-11-11T18:43:14.051357Z"
    }
   },
   "cell_type": "code",
   "source": [
    "import json\n",
    "from pathlib import Path"
   ],
   "id": "f864a97ee0d19483",
   "outputs": [],
   "execution_count": 2
  },
  {
   "metadata": {
    "ExecuteTime": {
     "end_time": "2024-11-11T18:43:14.379333Z",
     "start_time": "2024-11-11T18:43:14.370775Z"
    }
   },
   "cell_type": "code",
   "source": "report_data_folder = Path('/Users/gbean/teach/cs301R/ai-models/report')",
   "id": "93296e30965b9266",
   "outputs": [],
   "execution_count": 3
  },
  {
   "metadata": {
    "ExecuteTime": {
     "end_time": "2024-11-11T18:43:14.685166Z",
     "start_time": "2024-11-11T18:43:14.676083Z"
    }
   },
   "cell_type": "code",
   "source": "report_data_folder.resolve().absolute()",
   "id": "1edfac676b76aeeb",
   "outputs": [
    {
     "data": {
      "text/plain": [
       "PosixPath('/Users/gbean/teach/cs301R/ai-models/report')"
      ]
     },
     "execution_count": 4,
     "metadata": {},
     "output_type": "execute_result"
    }
   ],
   "execution_count": 4
  },
  {
   "metadata": {
    "ExecuteTime": {
     "end_time": "2024-11-11T18:43:15.348791Z",
     "start_time": "2024-11-11T18:43:15.326711Z"
    }
   },
   "cell_type": "code",
   "source": "list(report_data_folder.glob('*'))",
   "id": "91af77538af66cca",
   "outputs": [
    {
     "data": {
      "text/plain": [
       "[PosixPath('/Users/gbean/teach/cs301R/ai-models/report/prompt2_details.json'),\n",
       " PosixPath('/Users/gbean/teach/cs301R/ai-models/report/prompt3_details.json'),\n",
       " PosixPath('/Users/gbean/teach/cs301R/ai-models/report/prompt1_details.json')]"
      ]
     },
     "execution_count": 5,
     "metadata": {},
     "output_type": "execute_result"
    }
   ],
   "execution_count": 5
  },
  {
   "metadata": {
    "ExecuteTime": {
     "end_time": "2024-11-11T18:43:40.819749Z",
     "start_time": "2024-11-11T18:43:40.814138Z"
    }
   },
   "cell_type": "code",
   "source": [
    "def load_data(file: Path):\n",
    "\treturn json.loads(file.read_text())\n",
    "data = [load_data(file) for file in report_data_folder.glob('*.json')]"
   ],
   "id": "1eabf0a2f530a522",
   "outputs": [],
   "execution_count": 7
  },
  {
   "metadata": {},
   "cell_type": "markdown",
   "source": [
    "# Data structure\n",
    "## Prompt\n",
    "- list of test cases\n",
    "    - Test case: whole conversation\n",
    "    - Test input: prompt + model\n",
    "\t- Response\n",
    "    - Good examples\n",
    "\t- Bad examples\n",
    "\t- Good score: list of scores\n",
    "\t- Bad Scores: list of scores\n",
    "\t- Max good\n",
    "\t- Max bad\n",
    "\t- Mean difference - difference of the means\n",
    "\n",
    "## What I want\n",
    "- Prompt name\n",
    "\t- good scores\n",
    "\t- bad scores \n",
    "\t     "
   ],
   "id": "30bbb0d3ac9f33cc"
  },
  {
   "metadata": {},
   "cell_type": "code",
   "outputs": [],
   "execution_count": null,
   "source": "",
   "id": "36875ab08f7a9cd6"
  },
  {
   "metadata": {
    "ExecuteTime": {
     "end_time": "2024-11-11T18:53:24.490010Z",
     "start_time": "2024-11-11T18:53:24.478743Z"
    }
   },
   "cell_type": "code",
   "source": [
    "def parse_data(prompt_data):\n",
    "\treturn prompt_data['Test input']['name'], max(prompt_data['Score good']) - max(prompt_data['Score bad'])"
   ],
   "id": "ecb318282b5f527",
   "outputs": [],
   "execution_count": 25
  },
  {
   "metadata": {
    "ExecuteTime": {
     "end_time": "2024-11-11T18:51:04.856117Z",
     "start_time": "2024-11-11T18:51:04.844856Z"
    }
   },
   "cell_type": "code",
   "source": "data[0][-1].keys()",
   "id": "37f1e830471d38e6",
   "outputs": [
    {
     "data": {
      "text/plain": [
       "dict_keys(['Test case', 'Test input', 'Good examples input', 'Score good', 'Bad examples input', 'Score bad', 'Response', 'Mean difference', 'Max good', 'Max bad'])"
      ]
     },
     "execution_count": 19,
     "metadata": {},
     "output_type": "execute_result"
    }
   ],
   "execution_count": 19
  },
  {
   "metadata": {
    "ExecuteTime": {
     "end_time": "2024-11-11T18:53:25.652301Z",
     "start_time": "2024-11-11T18:53:25.642044Z"
    }
   },
   "cell_type": "code",
   "source": "[parse_data(prompt_data) for prompt_data in data[0]]",
   "id": "a9430026bf023d75",
   "outputs": [
    {
     "data": {
      "text/plain": [
       "[('prompt2', -0.43), ('prompt2', 0.258)]"
      ]
     },
     "execution_count": 26,
     "metadata": {},
     "output_type": "execute_result"
    }
   ],
   "execution_count": 26
  },
  {
   "metadata": {
    "ExecuteTime": {
     "end_time": "2024-11-11T18:52:45.355420Z",
     "start_time": "2024-11-11T18:52:44.622755Z"
    }
   },
   "cell_type": "code",
   "source": "",
   "id": "e6cea560330baba7",
   "outputs": [],
   "execution_count": 24
  },
  {
   "metadata": {
    "ExecuteTime": {
     "end_time": "2024-11-11T18:56:50.396749Z",
     "start_time": "2024-11-11T18:56:50.388448Z"
    }
   },
   "cell_type": "code",
   "source": [
    "def main(folder):\n",
    "\tdata = read_data(folder)\n",
    "\t\n",
    "\tlinks = {}\n",
    "\tfor name, individual_prompt in data:\n",
    "\t\tlinks[name] = save_individual_report_details(individual_prompt)\n",
    "\t\n",
    "\tsave_summary_html(data, links)\n",
    "\t\n",
    "\t"
   ],
   "id": "230e15c854c659af",
   "outputs": [],
   "execution_count": 27
  },
  {
   "metadata": {},
   "cell_type": "code",
   "outputs": [],
   "execution_count": null,
   "source": "",
   "id": "f3db8926ed2b69ab"
  }
 ],
 "metadata": {
  "kernelspec": {
   "display_name": "bean",
   "language": "python",
   "name": "bean"
  },
  "language_info": {
   "codemirror_mode": {
    "name": "ipython",
    "version": 2
   },
   "file_extension": ".py",
   "mimetype": "text/x-python",
   "name": "python",
   "nbconvert_exporter": "python",
   "pygments_lexer": "ipython2",
   "version": "2.7.6"
  }
 },
 "nbformat": 4,
 "nbformat_minor": 5
}
